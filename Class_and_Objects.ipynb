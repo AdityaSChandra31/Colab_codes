{
  "nbformat": 4,
  "nbformat_minor": 0,
  "metadata": {
    "colab": {
      "provenance": [],
      "authorship_tag": "ABX9TyN+fadxLOOEvRWXdDUNLWly",
      "include_colab_link": true
    },
    "kernelspec": {
      "name": "python3",
      "display_name": "Python 3"
    },
    "language_info": {
      "name": "python"
    }
  },
  "cells": [
    {
      "cell_type": "markdown",
      "metadata": {
        "id": "view-in-github",
        "colab_type": "text"
      },
      "source": [
        "<a href=\"https://colab.research.google.com/github/AdityaSChandra31/Colab_codes/blob/main/Class_and_Objects.ipynb\" target=\"_parent\"><img src=\"https://colab.research.google.com/assets/colab-badge.svg\" alt=\"Open In Colab\"/></a>"
      ]
    },
    {
      "cell_type": "code",
      "execution_count": 3,
      "metadata": {
        "colab": {
          "base_uri": "https://localhost:8080/"
        },
        "id": "daSi2AqrJgZF",
        "outputId": "f34f8dfb-c07a-49c9-814d-0d132493a52e"
      },
      "outputs": [
        {
          "output_type": "stream",
          "name": "stdout",
          "text": [
            "The 2020 Toyota Corolla is now driving.\n",
            "The 2022 Honda Civic is now driving.\n"
          ]
        }
      ],
      "source": [
        "class Car:\n",
        "    def __init__(self, make, model, year):\n",
        "        self.make = make\n",
        "        self.model = model\n",
        "        self.year = year\n",
        "\n",
        "    def drive(self):\n",
        "        print(f\"The {self.year} {self.make} {self.model} is now driving.\")\n",
        "\n",
        "my_car = Car(\"Toyota\", \"Corolla\", 2020)\n",
        "my_car.drive()\n",
        "\n",
        "\n",
        "another_car = Car(\"Honda\", \"Civic\", 2022)\n",
        "another_car.drive()\n"
      ]
    },
    {
      "cell_type": "code",
      "source": [
        "class Vehicle:\n",
        "    def __init__(self, make, model):\n",
        "        self.make = make\n",
        "        self.model = model\n",
        "\n",
        "    def details(self):\n",
        "        print(f\"{self.make} {self.model}\")\n",
        "\n",
        "class Bike(Vehicle):\n",
        "    def __init__(self, make, model, type):\n",
        "        super().__init__(make, model)\n",
        "        self.type = type\n",
        "\n",
        "    def details(self):\n",
        "        print(f\"{self.make} {self.model} is a {self.type} bike.\")\n",
        "\n",
        "bike1 = Bike(\"Yamaha\", \"YZF-R1\", \"Sport\")\n",
        "bike1.details()\n"
      ],
      "metadata": {
        "colab": {
          "base_uri": "https://localhost:8080/"
        },
        "id": "NgKDzfuAKkbE",
        "outputId": "849e00cd-bec4-40ff-e68a-e025d2d8915b"
      },
      "execution_count": 4,
      "outputs": [
        {
          "output_type": "stream",
          "name": "stdout",
          "text": [
            "Yamaha YZF-R1 is a Sport bike.\n"
          ]
        }
      ]
    },
    {
      "cell_type": "code",
      "source": [
        "class Animal:\n",
        "    def speak(self):\n",
        "        raise NotImplementedError(\"Subclass must implement abstract method\")\n",
        "\n",
        "class Dog(Animal):\n",
        "    def speak(self):\n",
        "        print(\"Woof\")\n",
        "\n",
        "class Cat(Animal):\n",
        "    def speak(self):\n",
        "        print(\"Meow\")\n",
        "\n",
        "def animal_sound(animal):\n",
        "    animal.speak()\n",
        "\n",
        "dog = Dog()\n",
        "cat = Cat()\n",
        "\n",
        "animal_sound(dog)\n",
        "animal_sound(cat)\n"
      ],
      "metadata": {
        "colab": {
          "base_uri": "https://localhost:8080/"
        },
        "id": "hLcfkGEKK9-3",
        "outputId": "44b73a78-508c-429f-c854-b9d0f18b80a0"
      },
      "execution_count": 5,
      "outputs": [
        {
          "output_type": "stream",
          "name": "stdout",
          "text": [
            "Woof\n",
            "Meow\n"
          ]
        }
      ]
    },
    {
      "cell_type": "code",
      "source": [
        "class BankAccount:\n",
        "    def __init__(self, balance=0):\n",
        "        self.__balance = balance  # private attribute\n",
        "\n",
        "    def deposit(self, amount):\n",
        "        if amount > 0:\n",
        "            self.__balance += amount\n",
        "        else:\n",
        "            print(\"Deposit amount must be positive.\")\n",
        "\n",
        "    def withdraw(self, amount):\n",
        "        if amount > 0 and amount <= self.__balance:\n",
        "            self.__balance -= amount\n",
        "        else:\n",
        "            print(\"Invalid withdrawal amount.\")\n",
        "\n",
        "    def get_balance(self):\n",
        "        return self.__balance\n",
        "\n",
        "account = BankAccount()\n",
        "account.deposit(100)\n",
        "account.withdraw(50)\n",
        "print(account.get_balance())\n"
      ],
      "metadata": {
        "colab": {
          "base_uri": "https://localhost:8080/"
        },
        "id": "IoRKKQvSLgkk",
        "outputId": "94300012-b300-44ef-aa19-4b7d3a5dea99"
      },
      "execution_count": 6,
      "outputs": [
        {
          "output_type": "stream",
          "name": "stdout",
          "text": [
            "50\n"
          ]
        }
      ]
    },
    {
      "cell_type": "code",
      "source": [
        "from abc import ABC, abstractmethod\n",
        "import math\n",
        "\n",
        "class Shape(ABC):\n",
        "    @abstractmethod\n",
        "    def area(self):\n",
        "        pass\n",
        "\n",
        "class Circle(Shape):\n",
        "    def __init__(self, radius):\n",
        "        self.radius = radius\n",
        "\n",
        "    def area(self):\n",
        "        return math.pi * self.radius ** 2\n",
        "\n",
        "circle = Circle(5)\n",
        "print(circle.area())\n"
      ],
      "metadata": {
        "colab": {
          "base_uri": "https://localhost:8080/"
        },
        "id": "dmsgqyXDMg8D",
        "outputId": "bdb2b3e3-ee43-4f83-c698-e8a72fc2cce5"
      },
      "execution_count": 7,
      "outputs": [
        {
          "output_type": "stream",
          "name": "stdout",
          "text": [
            "78.53981633974483\n"
          ]
        }
      ]
    },
    {
      "cell_type": "code",
      "source": [
        "class Employee:\n",
        "    def __init__(self, name):\n",
        "        self.name = name\n",
        "\n",
        "    def work(self):\n",
        "        print(f\"{self.name} is working.\")\n",
        "\n",
        "class Manager:\n",
        "    def __init__(self, department):\n",
        "        self.department = department\n",
        "\n",
        "    def manage(self):\n",
        "        print(f\"Managing the {self.department} department.\")\n",
        "\n",
        "class TeamLead(Employee, Manager):\n",
        "    def __init__(self, name, department):\n",
        "        Employee.__init__(self, name)\n",
        "        Manager.__init__(self, department)\n",
        "\n",
        "team_lead = TeamLead(\"John\", \"Sales\")\n",
        "team_lead.work()\n",
        "team_lead.manage()\n"
      ],
      "metadata": {
        "colab": {
          "base_uri": "https://localhost:8080/"
        },
        "id": "Fes2HV32NhWT",
        "outputId": "1d1fd77f-0d42-421f-98b4-8753619269df"
      },
      "execution_count": 8,
      "outputs": [
        {
          "output_type": "stream",
          "name": "stdout",
          "text": [
            "John is working.\n",
            "Managing the Sales department.\n"
          ]
        }
      ]
    },
    {
      "cell_type": "code",
      "source": [
        "class A:\n",
        "    def foo(self):\n",
        "        print(\"A's foo()\")\n",
        "\n",
        "class B(A):\n",
        "    def foo(self):\n",
        "        print(\"B's foo()\")\n",
        "\n",
        "class C(A):\n",
        "    def foo(self):\n",
        "        print(\"C's foo()\")\n",
        "\n",
        "class D(B, C):\n",
        "    pass\n",
        "\n",
        "d = D()\n",
        "d.foo()\n"
      ],
      "metadata": {
        "colab": {
          "base_uri": "https://localhost:8080/"
        },
        "id": "1k4L3Lz6OgGA",
        "outputId": "ca04cbd5-1edb-445e-c769-d63150221920"
      },
      "execution_count": 9,
      "outputs": [
        {
          "output_type": "stream",
          "name": "stdout",
          "text": [
            "B's foo()\n"
          ]
        }
      ]
    }
  ]
}