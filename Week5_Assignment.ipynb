{
  "nbformat": 4,
  "nbformat_minor": 0,
  "metadata": {
    "colab": {
      "provenance": [],
      "authorship_tag": "ABX9TyMUt4ulttxYnfw35hF0lvox",
      "include_colab_link": true
    },
    "kernelspec": {
      "name": "python3",
      "display_name": "Python 3"
    },
    "language_info": {
      "name": "python"
    }
  },
  "cells": [
    {
      "cell_type": "markdown",
      "metadata": {
        "id": "view-in-github",
        "colab_type": "text"
      },
      "source": [
        "<a href=\"https://colab.research.google.com/github/AdityaSChandra31/Colab_codes/blob/main/Week5_Assignment.ipynb\" target=\"_parent\"><img src=\"https://colab.research.google.com/assets/colab-badge.svg\" alt=\"Open In Colab\"/></a>"
      ]
    },
    {
      "cell_type": "code",
      "execution_count": null,
      "metadata": {
        "colab": {
          "base_uri": "https://localhost:8080/"
        },
        "id": "KuDUTqLPTlBo",
        "outputId": "65e39d13-2c72-40bc-adf9-aef0d1e6cf31"
      },
      "outputs": [
        {
          "output_type": "stream",
          "name": "stdout",
          "text": [
            "66.6\n",
            "34.5\n",
            "67.2\n",
            "31.7\n"
          ]
        }
      ],
      "source": [
        "import random\n",
        "\n",
        "def function(num):\n",
        "  itr=0\n",
        "  count=0\n",
        "  while(itr<1000):\n",
        "      initial_choice=random.randint(0,2)\n",
        "      doors=['goat','goat','car']\n",
        "\n",
        "      for i in range(3):\n",
        "        if i!=initial_choice and doors[i]!='car':\n",
        "          monty_opens=i\n",
        "          break\n",
        "      if num:\n",
        "        for i in range(3):\n",
        "          if i!= initial_choice and i!=monty_opens:\n",
        "            final_choice=i\n",
        "            break\n",
        "      else:\n",
        "        final_choice=initial_choice\n",
        "\n",
        "      if(final_choice==2):\n",
        "        count+=1\n",
        "      itr=itr+1\n",
        "\n",
        "  print(count/10)\n",
        "\n",
        "doors=['goat','goat','car']\n",
        "function(2)\n",
        "function(2**(2024)%2!=0)\n",
        "function(2*(2**(89)+7)%2==0)\n",
        "function((2**(90))%len(doors)!=1)\n"
      ]
    },
    {
      "cell_type": "code",
      "source": [
        "import random\n",
        "n = 10\n",
        "counter = 0\n",
        "for i in range(n):\n",
        "  choices = [\"rock\", \"paper\", \"scissors\"]\n",
        "  choice1 = random. choice(choices)\n",
        "  choice2 = random. choice(choices)\n",
        "  if choice1 != choice2:\n",
        "    counter += 1\n",
        "print(counter/n)"
      ],
      "metadata": {
        "colab": {
          "base_uri": "https://localhost:8080/"
        },
        "id": "OEPhPMSmXgpn",
        "outputId": "60e8738f-bd22-4197-e233-dbd4fafea890"
      },
      "execution_count": null,
      "outputs": [
        {
          "output_type": "stream",
          "name": "stdout",
          "text": [
            "0.6\n"
          ]
        }
      ]
    },
    {
      "cell_type": "code",
      "source": [
        "words = [x.lower() for x in input().replace(\".\",\" \").split()]\n",
        "\n",
        "\n",
        "count=0\n",
        "Frequency={}\n",
        "for word in words:\n",
        "  if word in Frequency:\n",
        "    Frequency[word]+=1\n",
        "  else:\n",
        "    Frequency[word]=1\n",
        "\n",
        "for word,Freq in Frequency.items():\n",
        "  print(f\"{word}: {Freq}\")\n"
      ],
      "metadata": {
        "colab": {
          "base_uri": "https://localhost:8080/"
        },
        "id": "fNkh5Mq2dQFB",
        "outputId": "e3f21333-2c44-4c29-95e0-7d79d4fdb3f7"
      },
      "execution_count": 24,
      "outputs": [
        {
          "output_type": "stream",
          "name": "stdout",
          "text": [
            "The quick brown fox jumped over the lazy dog. The quick fox jumped over the dog.\n",
            "the: 4\n",
            "quick: 2\n",
            "brown: 1\n",
            "fox: 2\n",
            "jumped: 2\n",
            "over: 2\n",
            "lazy: 1\n",
            "dog: 2\n"
          ]
        }
      ]
    },
    {
      "cell_type": "code",
      "source": [
        "words = [x.lower() for x in input().replace(\".\", \" \").split()]\n",
        "\n",
        "Frequency = {}\n",
        "\n",
        "for word in words:\n",
        "    Frequency[word] = Frequency.get(word, 0) + 1\n",
        "words = Frequency.items()\n",
        "print(words)\n",
        "for i, (word, Freq) in enumerate(words):\n",
        "    end_char = \"\\n\" if i < len(words) - 1 else \"\"\n",
        "    print(f\"{word}: {Freq}\", end=end_char)\n"
      ],
      "metadata": {
        "colab": {
          "base_uri": "https://localhost:8080/"
        },
        "id": "zLCHxnwLnH6R",
        "outputId": "5b565523-304d-430d-dbbf-83cfc04462a6"
      },
      "execution_count": 26,
      "outputs": [
        {
          "output_type": "stream",
          "name": "stdout",
          "text": [
            "The quick brown fox jumped over the lazy dog. The quick fox jumped over the dog.\n",
            "dict_items([('the', 4), ('quick', 2), ('brown', 1), ('fox', 2), ('jumped', 2), ('over', 2), ('lazy', 1), ('dog', 2)])\n",
            "the: 4\n",
            "quick: 2\n",
            "brown: 1\n",
            "fox: 2\n",
            "jumped: 2\n",
            "over: 2\n",
            "lazy: 1\n",
            "dog: 2"
          ]
        }
      ]
    },
    {
      "cell_type": "code",
      "source": [
        "def merge_dicts(d1,d2):\n",
        "  merged=d1.copy()\n",
        "\n",
        "  for key,value in d2.items():\n",
        "    if key in merged:\n",
        "      merged[key]+=value\n",
        "    else:\n",
        "      merged[key]=value\n",
        "  return merged\n",
        "def parse_input(input_string):\n",
        "    input_string = input_string.strip('{}').strip()\n",
        "    parsed_dict = {}\n",
        "    if input_string:\n",
        "        items = input_string.split(',')\n",
        "        for item in items:\n",
        "            key, value = item.split(':')\n",
        "            key = key.strip().strip(\"'\").strip('\"')\n",
        "            value = int(value.strip())\n",
        "            parsed_dict[key] = value\n",
        "    return parsed_dict\n",
        "\n",
        "if __name__ == \"__main__\":\n",
        "    dict1_input = input()\n",
        "    dict2_input = input()\n",
        "\n",
        "    dict1 = parse_input(dict1_input)\n",
        "    dict2 = parse_input(dict2_input)\n",
        "\n",
        "    merged_dict = merge_dicts(dict1, dict2)\n",
        "    print(\"Merged Dictionary:\", merged_dict)\n"
      ],
      "metadata": {
        "colab": {
          "base_uri": "https://localhost:8080/"
        },
        "id": "401FoZJn0bSn",
        "outputId": "ef94be4f-01fa-44c6-8003-bc22682d9072"
      },
      "execution_count": 37,
      "outputs": [
        {
          "output_type": "stream",
          "name": "stdout",
          "text": [
            "{'Schuyler': 10, 'Brendan': 15}\n",
            "{'Aaron': 5, 'Mansi': 20, 'Schuyler': -10}\n",
            "Merged Dictionary: {'Schuyler': 0, 'Brendan': 15, 'Aaron': 5, 'Mansi': 20}\n"
          ]
        }
      ]
    },
    {
      "cell_type": "code",
      "source": [
        "list= input().split()\n",
        "\n",
        "\n",
        "for i in range(len(list)-1):\n",
        "  swap=False\n",
        "  for j in range(len(list)-i-1):\n",
        "    if list[j]>list[j+1]:\n",
        "      list[j],list[j+1]=list[j+1],list[j]\n",
        "      swap=True\n",
        "  print(\" \".join(map(str,list)))\n",
        "  if not swap:\n",
        "    break\n",
        "\n",
        ""
      ],
      "metadata": {
        "colab": {
          "base_uri": "https://localhost:8080/"
        },
        "id": "I8AtSAxF3zmm",
        "outputId": "54c4b130-e9ae-4e64-ad18-cae2cb4e8113"
      },
      "execution_count": 53,
      "outputs": [
        {
          "output_type": "stream",
          "name": "stdout",
          "text": [
            "700 200 500 300\n",
            "200 500 300 700\n",
            "200 300 500 700\n",
            "200 300 500 700\n"
          ]
        }
      ]
    }
  ]
}