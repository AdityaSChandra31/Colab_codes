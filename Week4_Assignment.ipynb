{
  "nbformat": 4,
  "nbformat_minor": 0,
  "metadata": {
    "colab": {
      "provenance": [],
      "authorship_tag": "ABX9TyPX7Vs6M+ptgOgyaomiaC+4",
      "include_colab_link": true
    },
    "kernelspec": {
      "name": "python3",
      "display_name": "Python 3"
    },
    "language_info": {
      "name": "python"
    }
  },
  "cells": [
    {
      "cell_type": "markdown",
      "metadata": {
        "id": "view-in-github",
        "colab_type": "text"
      },
      "source": [
        "<a href=\"https://colab.research.google.com/github/AdityaSChandra31/Colab_codes/blob/main/Week4_Assignment.ipynb\" target=\"_parent\"><img src=\"https://colab.research.google.com/assets/colab-badge.svg\" alt=\"Open In Colab\"/></a>"
      ]
    },
    {
      "cell_type": "code",
      "execution_count": null,
      "metadata": {
        "id": "vSigQtMPOFrP"
      },
      "outputs": [],
      "source": [
        "def mystery1(number):\n",
        "  list1=[]\n",
        "  for i in range(1,number):\n",
        "    if number%i==0:\n",
        "      list1.append(i)\n",
        "  return list1\n",
        "\n",
        "def mystery2(n1,n2):\n",
        "  flag=False\n",
        "  list2=[]\n",
        "  for i in mystery1(n1):\n",
        "    for j in mystery1(n2):\n",
        "      if i==j:\n",
        "        flag=True\n",
        "        list2.append(i)\n",
        "  if len(list2)<=1:\n",
        "    print('completed')\n",
        "  print(flag)"
      ]
    },
    {
      "cell_type": "code",
      "source": [
        "mystery2(0,0)"
      ],
      "metadata": {
        "colab": {
          "base_uri": "https://localhost:8080/"
        },
        "id": "oKJ_t9RTP78e",
        "outputId": "60f08e7e-8faa-426b-f62b-91fb3f4d88bf"
      },
      "execution_count": null,
      "outputs": [
        {
          "output_type": "stream",
          "name": "stdout",
          "text": [
            "completed\n",
            "False\n"
          ]
        }
      ]
    },
    {
      "cell_type": "code",
      "source": [
        "rows= int(input())\n",
        "matrix=[]\n",
        "for i in range(rows):\n",
        "  rval=[int(x) for x in input().split()]\n",
        "  matrix.append(rval)\n",
        "flag=1\n",
        "for i in range(rows):\n",
        "  for j in range(rows):\n",
        "    if(i!=j and matrix[i][j]!=0):\n",
        "      flag=0\n",
        "\n",
        "print(int(flag), end='')\n"
      ],
      "metadata": {
        "colab": {
          "base_uri": "https://localhost:8080/"
        },
        "id": "6YcoZrRwuib0",
        "outputId": "a8e6d574-361d-463c-842e-419852a0f7e9"
      },
      "execution_count": null,
      "outputs": [
        {
          "output_type": "stream",
          "name": "stdout",
          "text": [
            "2\n",
            "1 0\n",
            "0 1\n",
            "1"
          ]
        }
      ]
    },
    {
      "cell_type": "code",
      "source": [
        "rows= int(input())\n",
        "cols= int(input())\n",
        "\n",
        "matrix=[]\n",
        "for i in range(rows):\n",
        "  rval=[int(x) for x in input().split()]\n",
        "  matrix.append(rval)\n",
        "c=int(input())\n",
        "Transpose=[[0 for _ in range(rows)] for _ in range(cols)]\n",
        "for i in range(cols):\n",
        "  for j in range(rows):\n",
        "    Transpose[i][j]=matrix[j][i]+c\n",
        "    if j < rows - 1:\n",
        "      print(Transpose[i][j], end=' ')\n",
        "    elif i==cols-1 and j==rows-1:\n",
        "      print(Transpose[i][j], end='')\n",
        "    else:\n",
        "      print(Transpose[i][j], end='\\n')\n",
        "\n"
      ],
      "metadata": {
        "colab": {
          "base_uri": "https://localhost:8080/"
        },
        "id": "hracJnNvyq_c",
        "outputId": "1bcc45d0-431a-467d-a050-42ce23a6be85"
      },
      "execution_count": null,
      "outputs": [
        {
          "output_type": "stream",
          "name": "stdout",
          "text": [
            "3\n",
            "2\n",
            "1 2\n",
            "3 4\n",
            "5 6\n",
            "3\n",
            "4 6 8 \n",
            "5 7 9 \n"
          ]
        }
      ]
    },
    {
      "cell_type": "code",
      "source": [
        "rows= int(input())\n",
        "matrix=[]\n",
        "for i in range(rows):\n",
        "  rval=[int(x) for x in input().split()]\n",
        "  matrix.append(rval)\n",
        "flag=0\n",
        "for i in range(rows):\n",
        "  for j in range(rows):\n",
        "    if(i!=j and matrix[i][j]==matrix[j][i]):\n",
        "      flag=1\n",
        "\n",
        "print(int(flag), end='')"
      ],
      "metadata": {
        "colab": {
          "base_uri": "https://localhost:8080/"
        },
        "id": "Z2Z9bfT73jO_",
        "outputId": "9fec4a22-22da-4789-fe8c-7dcaf88bc26d"
      },
      "execution_count": null,
      "outputs": [
        {
          "output_type": "stream",
          "name": "stdout",
          "text": [
            "3\n",
            "1 2 3\n",
            "2 5 7\n",
            "3 7 9\n",
            "1"
          ]
        }
      ]
    }
  ]
}