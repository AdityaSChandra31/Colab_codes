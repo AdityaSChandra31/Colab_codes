{
  "nbformat": 4,
  "nbformat_minor": 0,
  "metadata": {
    "colab": {
      "provenance": [],
      "authorship_tag": "ABX9TyOwIRAmqfST8zGtIxdZQZdw",
      "include_colab_link": true
    },
    "kernelspec": {
      "name": "python3",
      "display_name": "Python 3"
    },
    "language_info": {
      "name": "python"
    }
  },
  "cells": [
    {
      "cell_type": "markdown",
      "metadata": {
        "id": "view-in-github",
        "colab_type": "text"
      },
      "source": [
        "<a href=\"https://colab.research.google.com/github/AdityaSChandra31/Colab_codes/blob/main/Week3_Assignment.ipynb\" target=\"_parent\"><img src=\"https://colab.research.google.com/assets/colab-badge.svg\" alt=\"Open In Colab\"/></a>"
      ]
    },
    {
      "cell_type": "code",
      "execution_count": null,
      "metadata": {
        "colab": {
          "base_uri": "https://localhost:8080/"
        },
        "id": "_n7LDsUQRevz",
        "outputId": "334cd38b-ffc8-4079-b0e5-b87f6f6f241d"
      },
      "outputs": [
        {
          "output_type": "stream",
          "name": "stdout",
          "text": [
            "0\n",
            "1\n",
            "2\n",
            "3\n",
            "4\n",
            "5\n",
            "6\n",
            "7\n",
            "8\n",
            "9\n",
            "10\n",
            "11\n",
            "12\n",
            "13\n",
            "14\n",
            "15\n",
            "16\n",
            "17\n",
            "18\n",
            "19\n",
            "20\n",
            "21\n",
            "22\n",
            "23\n",
            "24\n"
          ]
        }
      ],
      "source": [
        "n=25\n",
        "a=[]\n",
        "for i in range(n):\n",
        "  l1=[]\n",
        "  p=0\n",
        "  for j in range(i):\n",
        "    l1.append(j)\n",
        "  for k in l1:\n",
        "    p+=1\n",
        "  print(p)\n",
        "  a.append(p)\n",
        "\n",
        "k=0\n",
        "for l in a:\n",
        "  k+=1\n",
        "\n",
        "\n"
      ]
    },
    {
      "cell_type": "code",
      "source": [
        "with open(\"file.txt\",\"r\") as f:\n",
        "  data=f.read()\n",
        "  print(data)"
      ],
      "metadata": {
        "colab": {
          "base_uri": "https://localhost:8080/"
        },
        "id": "W9KTMq38T3mF",
        "outputId": "e2ceab2e-d855-4211-9de8-5ca410fc4c3f"
      },
      "execution_count": null,
      "outputs": [
        {
          "output_type": "stream",
          "name": "stdout",
          "text": [
            "123\n"
          ]
        }
      ]
    },
    {
      "cell_type": "code",
      "source": [
        "n=245326785456 * 10**3359\n",
        "k=0\n",
        "a=[]\n",
        "b=0\n",
        "while(n!=0):\n",
        "  k = k +(n%10)\n",
        "  #print(k)\n",
        "  a.append(n%10)\n",
        "  n=n//10\n",
        "a.sort()\n",
        "for i in a:\n",
        "  b=b+i\n",
        "print(b)\n",
        "if(b!=k):\n",
        "  print(\"PYTHON IS FUN\")\n",
        "else:\n",
        "  print(\"PYTHON IS BORING\")"
      ],
      "metadata": {
        "colab": {
          "base_uri": "https://localhost:8080/"
        },
        "id": "xBgh1KpxVFY6",
        "outputId": "af41c58f-30f6-4fc4-99ac-51971cea116d"
      },
      "execution_count": null,
      "outputs": [
        {
          "output_type": "stream",
          "name": "stdout",
          "text": [
            "57\n",
            "PYTHON IS BORING\n"
          ]
        }
      ]
    },
    {
      "cell_type": "code",
      "source": [
        "\n",
        "list_str = input()\n",
        "list = [int(x) for x in list_str.split()]\n",
        "print(list)\n",
        "list.sort()\n",
        "smallest=list[0]\n",
        "l=[]\n",
        "for i in range(len(list)):\n",
        "  if list[i]>smallest:\n",
        "    l.append(list[i])\n",
        "\n",
        "\n",
        "print(l[0])"
      ],
      "metadata": {
        "colab": {
          "base_uri": "https://localhost:8080/"
        },
        "id": "ES_et-jxXg5M",
        "outputId": "2cef4c5a-436f-47cd-a53b-085f037e2719"
      },
      "execution_count": 2,
      "outputs": [
        {
          "output_type": "stream",
          "name": "stdout",
          "text": [
            "3 1 4 1 5 9 2 6 5 3 5\n",
            "[3, 1, 4, 1, 5, 9, 2, 6, 5, 3, 5]\n",
            "2\n"
          ]
        }
      ]
    },
    {
      "cell_type": "code",
      "source": [
        "\n",
        "list_str = input()\n",
        "list = [int(x) for x in list_str.split()]\n",
        "unique_list=[]\n",
        "for i in list:\n",
        "  if i not in unique_list:\n",
        "    unique_list.append(i)\n",
        "unique_list.sort()\n",
        "print(unique_list)\n",
        "print(unique_list[1])\n"
      ],
      "metadata": {
        "colab": {
          "base_uri": "https://localhost:8080/"
        },
        "id": "tB6d-rQhaLvK",
        "outputId": "8cf4f302-0d03-4e91-fcb9-c2c94b1cbe1f"
      },
      "execution_count": 10,
      "outputs": [
        {
          "output_type": "stream",
          "name": "stdout",
          "text": [
            "3 1 4 1 5 9 2 6 5 3 5\n",
            "[1, 2, 3, 4, 5, 6, 9]\n",
            "1\n"
          ]
        }
      ]
    },
    {
      "cell_type": "code",
      "source": [
        "\n",
        "list_str = input()\n",
        "list = [int(x) for x in list_str.split()]\n",
        "unique_list=[]\n",
        "string=''\n",
        "\n",
        "for i in list:\n",
        "  if (i%2)!=0:\n",
        "    unique_list.append(i)\n",
        "  else:\n",
        "    if i not in unique_list:\n",
        "      unique_list.append(i)\n",
        "\n",
        "for i in unique_list:\n",
        "     string+=str(i)+\" \"\n",
        "\n",
        "print(string)\n",
        "\n"
      ],
      "metadata": {
        "colab": {
          "base_uri": "https://localhost:8080/"
        },
        "id": "vI_kDB8WeNeI",
        "outputId": "df7911c3-2b6e-4501-8fd3-fc1dc813d4a1"
      },
      "execution_count": 15,
      "outputs": [
        {
          "output_type": "stream",
          "name": "stdout",
          "text": [
            "0 2 2 1 3\n",
            "0 2 1 3 \n"
          ]
        }
      ]
    },
    {
      "cell_type": "code",
      "source": [
        "list_str = input()\n",
        "list = [int(x) for x in list_str.split()]\n",
        "string=\"\"\n",
        "reverse_list=list[::-1]\n",
        "\n",
        "for i in range(len(list)):\n",
        "  if (i%2)==0:\n",
        "    string+=str(reverse_list[i]+list[i])+\" \"\n",
        "  else:\n",
        "    string+=str(list[i])+\" \"\n",
        "print(string)\n"
      ],
      "metadata": {
        "colab": {
          "base_uri": "https://localhost:8080/"
        },
        "id": "EWEeWsJ1heLu",
        "outputId": "8d4d0c6e-8ffe-40c9-b304-6e38bad93491"
      },
      "execution_count": 18,
      "outputs": [
        {
          "output_type": "stream",
          "name": "stdout",
          "text": [
            "1 2 3 4 5\n",
            "6 2 6 4 6 \n"
          ]
        }
      ]
    },
    {
      "cell_type": "markdown",
      "source": [],
      "metadata": {
        "id": "GK0Gm-FbkK7f"
      }
    }
  ]
}