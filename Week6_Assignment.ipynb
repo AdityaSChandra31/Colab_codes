{
  "nbformat": 4,
  "nbformat_minor": 0,
  "metadata": {
    "colab": {
      "provenance": [],
      "authorship_tag": "ABX9TyM4GfBdcM0JeHwJ02C7X3Tp",
      "include_colab_link": true
    },
    "kernelspec": {
      "name": "python3",
      "display_name": "Python 3"
    },
    "language_info": {
      "name": "python"
    }
  },
  "cells": [
    {
      "cell_type": "markdown",
      "metadata": {
        "id": "view-in-github",
        "colab_type": "text"
      },
      "source": [
        "<a href=\"https://colab.research.google.com/github/AdityaSChandra31/Colab_codes/blob/main/Week6_Assignment.ipynb\" target=\"_parent\"><img src=\"https://colab.research.google.com/assets/colab-badge.svg\" alt=\"Open In Colab\"/></a>"
      ]
    },
    {
      "cell_type": "code",
      "execution_count": 1,
      "metadata": {
        "colab": {
          "base_uri": "https://localhost:8080/"
        },
        "id": "PsQbmNoFOkkn",
        "outputId": "b1c47db6-2a1a-4011-98cf-f53d3e0bd202"
      },
      "outputs": [
        {
          "output_type": "stream",
          "name": "stdout",
          "text": [
            "0\n",
            "1\n",
            "3\n",
            "6\n",
            "10\n",
            "15\n",
            "21\n",
            "28\n",
            "36\n",
            "45\n"
          ]
        }
      ],
      "source": [
        "def mystery(n):\n",
        "  if n<=0:\n",
        "    return 0\n",
        "  return n + mystery(n-1)\n",
        "\n",
        "for i in range(10):\n",
        "  m=mystery(i)\n",
        "  print(m)"
      ]
    },
    {
      "cell_type": "code",
      "source": [
        "def func(x):\n",
        "  return x**2\n",
        "\n",
        "def func(x,y=1):\n",
        "  return x**2 + y\n",
        "\n",
        "print(func(5))"
      ],
      "metadata": {
        "colab": {
          "base_uri": "https://localhost:8080/"
        },
        "id": "rdAR5P1oSdVH",
        "outputId": "8f9d99e9-af59-4f8f-db71-36f992a1f1b7"
      },
      "execution_count": 2,
      "outputs": [
        {
          "output_type": "stream",
          "name": "stdout",
          "text": [
            "26\n"
          ]
        }
      ]
    },
    {
      "cell_type": "code",
      "source": [
        "array= [int(x) for x in input().split()]\n",
        "k= int(input())\n",
        "\n",
        "\n",
        "sorted_array= sorted(array)\n",
        "\n",
        "if k>len(array):\n",
        "  print(f\"The clue k should be smaller than or equal to the list size\")\n",
        "else:\n",
        "  print(sorted_array[k-1],end='')\n",
        "\n"
      ],
      "metadata": {
        "colab": {
          "base_uri": "https://localhost:8080/"
        },
        "id": "_St0GnLCdoTH",
        "outputId": "7b664175-38b6-4daa-eac8-041c5816342d"
      },
      "execution_count": 9,
      "outputs": [
        {
          "output_type": "stream",
          "name": "stdout",
          "text": [
            "1 10 2 7 8 5\n",
            "2\n",
            "[1, 10, 2, 7, 8, 5]\n",
            "[1, 2, 5, 7, 8, 10]\n",
            "2\n"
          ]
        }
      ]
    },
    {
      "cell_type": "code",
      "source": [
        "def decimal_to_binary(n):\n",
        "  if n==0:\n",
        "    return \"\"\n",
        "  return decimal_to_binary(n//2) + str(n%2)\n",
        "\n",
        "n= int(input())\n",
        "binary_result= decimal_to_binary(n)\n",
        "print(binary_result if binary_result else \"0\",end=\"\")"
      ],
      "metadata": {
        "colab": {
          "base_uri": "https://localhost:8080/"
        },
        "id": "_PL75n3Ige_L",
        "outputId": "ddad2690-6277-42b8-f748-dfbe32461ecb"
      },
      "execution_count": 12,
      "outputs": [
        {
          "output_type": "stream",
          "name": "stdout",
          "text": [
            "0\n",
            "0"
          ]
        }
      ]
    },
    {
      "cell_type": "code",
      "source": [
        "def delete_elements(lst, item):\n",
        "  if not lst:\n",
        "    return lst\n",
        "  return delete_elements(lst[1:],item) if lst[0]==item else [lst[0]] + delete_elements(lst[1:],item)\n"
      ],
      "metadata": {
        "id": "0FORMFIBh0pL"
      },
      "execution_count": null,
      "outputs": []
    }
  ]
}