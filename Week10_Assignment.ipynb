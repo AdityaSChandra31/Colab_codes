{
  "nbformat": 4,
  "nbformat_minor": 0,
  "metadata": {
    "colab": {
      "provenance": [],
      "authorship_tag": "ABX9TyPCO0X+iHmEVjcT1e7dKTp4",
      "include_colab_link": true
    },
    "kernelspec": {
      "name": "python3",
      "display_name": "Python 3"
    },
    "language_info": {
      "name": "python"
    }
  },
  "cells": [
    {
      "cell_type": "markdown",
      "metadata": {
        "id": "view-in-github",
        "colab_type": "text"
      },
      "source": [
        "<a href=\"https://colab.research.google.com/github/AdityaSChandra31/Colab_codes/blob/main/Week10_Assignment.ipynb\" target=\"_parent\"><img src=\"https://colab.research.google.com/assets/colab-badge.svg\" alt=\"Open In Colab\"/></a>"
      ]
    },
    {
      "cell_type": "code",
      "execution_count": null,
      "metadata": {
        "colab": {
          "base_uri": "https://localhost:8080/"
        },
        "id": "XLoQKPq67nbN",
        "outputId": "227d6044-f820-4b09-b5b5-4ec20fbaff61"
      },
      "outputs": [
        {
          "output_type": "stream",
          "name": "stdout",
          "text": [
            "tnoaigmooP\n"
          ]
        }
      ],
      "source": [
        "s = \"PythonProgramming\"\n",
        "print(s[2:15:3] + s[ :: -4])"
      ]
    },
    {
      "cell_type": "code",
      "source": [
        "s = \"Python Programming\"\n",
        "print(s.index('o', 5, 10))"
      ],
      "metadata": {
        "colab": {
          "base_uri": "https://localhost:8080/"
        },
        "id": "l-YjKpfV8V1r",
        "outputId": "7323266f-03f8-471d-e849-fb2445b47937"
      },
      "execution_count": null,
      "outputs": [
        {
          "output_type": "stream",
          "name": "stdout",
          "text": [
            "9\n"
          ]
        }
      ]
    },
    {
      "cell_type": "code",
      "source": [
        "print(17 % -5)"
      ],
      "metadata": {
        "colab": {
          "base_uri": "https://localhost:8080/"
        },
        "id": "fY0lnFYY9DQK",
        "outputId": "30011081-95d3-415e-e4e2-ca810ef32b1d"
      },
      "execution_count": null,
      "outputs": [
        {
          "output_type": "stream",
          "name": "stdout",
          "text": [
            "-3\n"
          ]
        }
      ]
    },
    {
      "cell_type": "code",
      "source": [
        "import numpy as np\n",
        "arr = np.array([[1, [2, 3]], [4, [5, 6]], [7, [8, 9]]], dtype=object)\n",
        "print(arr[1][1][0])"
      ],
      "metadata": {
        "colab": {
          "base_uri": "https://localhost:8080/"
        },
        "id": "cNakgZRn9lVH",
        "outputId": "9cdb07cf-a894-42ad-df49-336a3e8ffe16"
      },
      "execution_count": null,
      "outputs": [
        {
          "output_type": "stream",
          "name": "stdout",
          "text": [
            "5\n"
          ]
        }
      ]
    },
    {
      "cell_type": "code",
      "source": [
        "import numpy as np\n",
        "a = np.array([[1, 2, 3], [4, 5, 6]])\n",
        "print(np.sum(a, axis=0))"
      ],
      "metadata": {
        "colab": {
          "base_uri": "https://localhost:8080/"
        },
        "id": "K_YCnIva9wPa",
        "outputId": "53c6f069-3dbc-45eb-817e-b24193506263"
      },
      "execution_count": null,
      "outputs": [
        {
          "output_type": "stream",
          "name": "stdout",
          "text": [
            "[5 7 9]\n"
          ]
        }
      ]
    },
    {
      "cell_type": "code",
      "source": [
        "import numpy as np\n",
        "a = np.ones((3, 4))\n",
        "b = np.ones((4,2))\n",
        "c = np.dot(a, b)\n",
        "print(c.shape)"
      ],
      "metadata": {
        "colab": {
          "base_uri": "https://localhost:8080/"
        },
        "id": "XtWlnhY5-By0",
        "outputId": "72ce775a-475b-4864-9c51-ac56bf27aff1"
      },
      "execution_count": null,
      "outputs": [
        {
          "output_type": "stream",
          "name": "stdout",
          "text": [
            "(3, 2)\n"
          ]
        }
      ]
    },
    {
      "cell_type": "code",
      "source": [
        "def findMaxConsecutiveOnes(nums):\n",
        "    max_streak = 0\n",
        "    current_streak = 0\n",
        "\n",
        "    for num in nums:\n",
        "        if num == 1:\n",
        "            current_streak += 1\n",
        "            max_streak = max(max_streak, current_streak)\n",
        "        else:\n",
        "            current_streak = 0\n",
        "\n",
        "    return max_streak"
      ],
      "metadata": {
        "id": "Y1xieBgC-3Io"
      },
      "execution_count": null,
      "outputs": []
    },
    {
      "cell_type": "code",
      "source": [
        "import ast\n",
        "def longestCommonPrefix(st):\n",
        "    if not st:\n",
        "        return \"\"\n",
        "    prefix = st[0]\n",
        "    for word in st[1:]:\n",
        "        while not word.startswith(prefix):\n",
        "            prefix = prefix[:-1]\n",
        "            if not prefix:\n",
        "                return \"\"\n",
        "    return prefix\n",
        "\n",
        "input_list = ast.literal_eval(input().strip())\n",
        "print(f'\"{longestCommonPrefix(input_list)}\"', end='')"
      ],
      "metadata": {
        "id": "QPc1JCkVBOxu"
      },
      "execution_count": null,
      "outputs": []
    },
    {
      "cell_type": "code",
      "source": [
        "def isIsomorphic(s, t):\n",
        "    mapping = set(zip(s, t))\n",
        "    return len(mapping) == len(set(s)) == len(set(t))\n",
        "\n",
        "\n",
        "s = input().strip()\n",
        "t = input().strip()\n",
        "print(isIsomorphic(s, t), end='')"
      ],
      "metadata": {
        "id": "5HFA4RpBBP2l"
      },
      "execution_count": null,
      "outputs": []
    }
  ]
}