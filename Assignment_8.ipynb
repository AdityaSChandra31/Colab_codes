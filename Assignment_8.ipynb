{
  "nbformat": 4,
  "nbformat_minor": 0,
  "metadata": {
    "colab": {
      "provenance": [],
      "authorship_tag": "ABX9TyOSVhuISzlE7qBF+oHz6xJX",
      "include_colab_link": true
    },
    "kernelspec": {
      "name": "python3",
      "display_name": "Python 3"
    },
    "language_info": {
      "name": "python"
    }
  },
  "cells": [
    {
      "cell_type": "markdown",
      "metadata": {
        "id": "view-in-github",
        "colab_type": "text"
      },
      "source": [
        "<a href=\"https://colab.research.google.com/github/AdityaSChandra31/Colab_codes/blob/main/Assignment_8.ipynb\" target=\"_parent\"><img src=\"https://colab.research.google.com/assets/colab-badge.svg\" alt=\"Open In Colab\"/></a>"
      ]
    },
    {
      "cell_type": "code",
      "execution_count": null,
      "metadata": {
        "colab": {
          "base_uri": "https://localhost:8080/"
        },
        "id": "c-Dgt4HuFsef",
        "outputId": "52ef3a4b-bd08-46ed-e9f4-a970cc7dfbdc"
      },
      "outputs": [
        {
          "output_type": "stream",
          "name": "stdout",
          "text": [
            "([1, 2, 5], [3, 4])\n"
          ]
        }
      ],
      "source": [
        "tup = ([1,2],[3,4])\n",
        "tup[0].append(5)\n",
        "print(tup)"
      ]
    },
    {
      "cell_type": "code",
      "source": [
        "t= (1,2,3,4,5)\n",
        "\n",
        "for i in range(-1,-len(t),-1):\n",
        "  print(t[i])"
      ],
      "metadata": {
        "colab": {
          "base_uri": "https://localhost:8080/"
        },
        "id": "vqwYA6osGKvS",
        "outputId": "af78620c-9bf1-40ca-ff8b-3547ee8ef5e2"
      },
      "execution_count": null,
      "outputs": [
        {
          "output_type": "stream",
          "name": "stdout",
          "text": [
            "5\n",
            "4\n",
            "3\n",
            "2\n"
          ]
        }
      ]
    },
    {
      "cell_type": "code",
      "source": [
        "word= 'facebook'\n",
        "new =''\n",
        "\n",
        "for w in word:\n",
        "  i= ord(w)\n",
        "\n",
        "  j= (((i+26)-97)%26)+97\n",
        "\n",
        "  new= new + chr(j)\n",
        "\n",
        "\n",
        "print(new)\n",
        "\n"
      ],
      "metadata": {
        "colab": {
          "base_uri": "https://localhost:8080/"
        },
        "id": "dm9SsormG18i",
        "outputId": "a60c3413-ecab-46be-ae58-6c72ba28c4fa"
      },
      "execution_count": null,
      "outputs": [
        {
          "output_type": "stream",
          "name": "stdout",
          "text": [
            "facebook\n"
          ]
        }
      ]
    },
    {
      "cell_type": "code",
      "source": [
        "print(\"enter a-z\")\n",
        "\n",
        "p1=str(input())\n",
        "p2=str(input())\n",
        "\n",
        "while(True):\n",
        "\n",
        "  if(ord(p1.lower())+1 == ord(p2.lower())):\n",
        "    print('clap')\n",
        "    break\n",
        "  else:\n",
        "    p1=str(input())\n",
        "    p2=str(input())\n"
      ],
      "metadata": {
        "colab": {
          "base_uri": "https://localhost:8080/"
        },
        "id": "6IdQb466ICfj",
        "outputId": "d6eb16ee-37e6-436b-a456-8eed0b16971d"
      },
      "execution_count": null,
      "outputs": [
        {
          "output_type": "stream",
          "name": "stdout",
          "text": [
            "enter a-z\n",
            "a\n",
            "a\n",
            "a\n",
            "b\n",
            "clap\n"
          ]
        }
      ]
    },
    {
      "cell_type": "code",
      "source": [
        "import random\n",
        "import matplotlib.pyplot as plt\n",
        "\n",
        "l = []\n",
        "count = 0\n",
        "\n",
        "for i in range(10):\n",
        "  guess = random.randint(1, 10)\n",
        "  print(guess)\n",
        "  pick = random.randint(1, 10)\n",
        "  print(pick)\n",
        "\n",
        "  if(guess != pick):\n",
        "    count+=1\n",
        "    l.append(count)\n",
        "  else:\n",
        "    count -= 1\n",
        "    l.append(count)\n",
        "\n",
        "plt.plot(l)\n",
        "plt.show()"
      ],
      "metadata": {
        "colab": {
          "base_uri": "https://localhost:8080/",
          "height": 795
        },
        "id": "EZ3JnDIkJV0t",
        "outputId": "34411e97-adcc-430b-c220-1af029226681"
      },
      "execution_count": null,
      "outputs": [
        {
          "output_type": "stream",
          "name": "stdout",
          "text": [
            "10\n",
            "2\n",
            "1\n",
            "1\n",
            "5\n",
            "10\n",
            "1\n",
            "9\n",
            "6\n",
            "4\n",
            "7\n",
            "10\n",
            "6\n",
            "2\n",
            "1\n",
            "7\n",
            "9\n",
            "10\n",
            "1\n",
            "2\n"
          ]
        },
        {
          "output_type": "display_data",
          "data": {
            "text/plain": [
              "<Figure size 640x480 with 1 Axes>"
            ],
            "image/png": "[encoded data removed]"
          },
          "metadata": {}
        }
      ]
    },
    {
      "cell_type": "code",
      "source": [
        "string = 'hey!there'\n",
        "\n",
        "a = sorted(string)\n",
        "a.reverse()\n",
        "\n",
        "print(a)\n"
      ],
      "metadata": {
        "colab": {
          "base_uri": "https://localhost:8080/"
        },
        "id": "YDU284DyKky0",
        "outputId": "c125f5b2-ef3c-4a5c-bdcc-a6490c3216bb"
      },
      "execution_count": null,
      "outputs": [
        {
          "output_type": "stream",
          "name": "stdout",
          "text": [
            "['y', 't', 'r', 'h', 'h', 'e', 'e', 'e', '!']\n"
          ]
        }
      ]
    },
    {
      "cell_type": "code",
      "source": [
        "def test(word):\n",
        "\n",
        "  new_word = ''\n",
        "\n",
        "  for ch in word:\n",
        "\n",
        "    if ch>='a' and ch <= 'z':\n",
        "\n",
        "      temp = ord(ch)\n",
        "      temp = temp - 32\n",
        "      temp = chr(temp)\n",
        "      new_word = new_word + temp\n",
        "\n",
        "  return new_word\n",
        "\n",
        "test('word')\n"
      ],
      "metadata": {
        "colab": {
          "base_uri": "https://localhost:8080/",
          "height": 36
        },
        "id": "qBwUO3j4Kph_",
        "outputId": "2fc19cf5-e239-4108-db4b-ed36650c7910"
      },
      "execution_count": null,
      "outputs": [
        {
          "output_type": "execute_result",
          "data": {
            "text/plain": [
              "'WORD'"
            ],
            "application/vnd.google.colaboratory.intrinsic+json": {
              "type": "string"
            }
          },
          "metadata": {},
          "execution_count": 14
        }
      ]
    }
  ]
}